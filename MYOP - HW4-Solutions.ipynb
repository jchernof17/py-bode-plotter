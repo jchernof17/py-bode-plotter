{
 "cells": [
  {
   "cell_type": "code",
   "execution_count": null,
   "metadata": {},
   "outputs": [],
   "source": [
    "import numpy as np\n",
    "import matplotlib.pyplot as plt"
   ]
  },
  {
   "cell_type": "markdown",
   "metadata": {},
   "source": [
    "In this problem, you will fill out helper functions to build a bode plot of any circuit you'd like--starting with RC and CR.\n",
    "\n",
    "Outline: \n",
    "1. Choose circuit components\n",
    "2. Choose circuit values\n",
    "3. Calculate impedances\n",
    "4. Formulate \"impedance divider\"\n",
    "5. Calculate transfer function\n",
    "6. Calculate magnitude of transfer function\n",
    "7. Calculate phase of transfer function\n",
    "8. Plot magnitude of transfer function\n",
    "9. Plot magnitude of transfer function\n",
    "\n"
   ]
  },
  {
   "cell_type": "markdown",
   "metadata": {},
   "source": [
    "**~Choose Components~**"
   ]
  },
  {
   "cell_type": "code",
   "execution_count": null,
   "metadata": {},
   "outputs": [],
   "source": [
    "# Change the below booleans to set up your circuit. If you'd like an RC circuit, set the top value to True. \n",
    "# If you'd like a CR circuit, set the top value to False.\n",
    "RC_circuit = False\n",
    "CR_circuit = not RC_circuit;"
   ]
  },
  {
   "cell_type": "markdown",
   "metadata": {},
   "source": [
    "**~Choose circuit values~**"
   ]
  },
  {
   "cell_type": "code",
   "execution_count": null,
   "metadata": {},
   "outputs": [],
   "source": [
    "C = 1e-6\n",
    "R = 1000\n",
    "getOmegap = lambda R, C: 1/(R*C)\n",
    "omegap = getOmegap(R, C) # change this value"
   ]
  },
  {
   "cell_type": "markdown",
   "metadata": {},
   "source": [
    "**~Calculate impedances~**\n",
    "\n",
    "We want to create a getImpedance function, that, given a component, calculates the impedance at a specific omega. The omega does not have to be defined immediately (i.e., we can return a higher order function if necessary).\n",
    "\n",
    "The skeleton code has been provided below"
   ]
  },
  {
   "cell_type": "code",
   "execution_count": null,
   "metadata": {},
   "outputs": [],
   "source": [
    "def getImpedance(component, componentVal, omega=None):\n",
    "    # fill in method so that impedance value (as a function of omega, if necessary) is returned\n",
    "    # should return a function if called with 2 arguments, or a value if called with three arguments.\n",
    "    # hint: use built in j\n",
    "    \n",
    "    '''\n",
    "    getImpedance(\"capacitor\", 1e-6, 100)\n",
    "    >>> 10000j\n",
    "    \n",
    "    getImpedance(\"resistor\", 1e3, 100)\n",
    "    >>> 1000\n",
    "    \n",
    "    getImpedance(\"capacitor\", 1e-7)\n",
    "    >>> Function\n",
    "    \n",
    "    getImpedance(\"resistor\", 1e6)\n",
    "    >>> Function\n",
    "    '''\n",
    "    \n",
    "    def helper(omega):\n",
    "        \n",
    "        if (component == \"capacitor\"):\n",
    "            return 1/(1j*omega*componentVal)\n",
    "        \n",
    "        elif (component == \"resistor\"):\n",
    "            return componentVal\n",
    "        \n",
    "    if (omega == None): #if we don't know the omega value yet, return a HOF that waits for omega\n",
    "        return helper\n",
    "    else: # shortcut if we already know omega\n",
    "        return helper(omega) # replace!\n",
    "    "
   ]
  },
  {
   "cell_type": "markdown",
   "metadata": {},
   "source": [
    "**~Formulate \"impedance divider\"~**\n",
    "\n",
    "Now we want to build the impedance divider formula to set up our transfer function. Fill in the below method to calculate the voltage difference across the second component (across the C in an RC, or across the R in a CR)."
   ]
  },
  {
   "cell_type": "code",
   "execution_count": null,
   "metadata": {},
   "outputs": [],
   "source": [
    "def divideImpedance(R, C, omega=None):\n",
    "    # fill in method so that impedance is divided properly\n",
    "    # should return a function if called with 2 arguments, or a two element array if called with 3 elements\n",
    "    # the HOF returns a two element array\n",
    "    # the two element array should be [numer, denom]\n",
    "    \n",
    "    \n",
    "    '''\n",
    "    f = divideImpedance(1e3, 1e-6)\n",
    "    output = f(1000)\n",
    "    output[0]/output[1]\n",
    "    >>> (1+1j)\n",
    "\n",
    "    smalloutput = f(100)\n",
    "    smalloutput[0]/smalloutput[1]\n",
    "    >>> (1+0.1j)\n",
    "    \n",
    "    g = divideImpedance(1e-9, 1e6):\n",
    "    g\n",
    "    >>> Function\n",
    "    '''\n",
    "    # hint: you can use the above part to make this SUPER easy!\n",
    "    \n",
    "    def helper(omega):\n",
    "        \n",
    "        if RC_circuit:\n",
    "            # do something\n",
    "            numer = getImpedance(\"resistor\", R)\n",
    "            denom = lambda: (getImpedance(\"resistor\", R, omega) + getImpedance(\"capacitor\", C, omega))\n",
    "            return [numer, denom]\n",
    "        else: \n",
    "            # do something else\n",
    "            numer = getImpedance(\"capacitor\", C)\n",
    "            denom = lambda: (getImpedance(\"resistor\", R, omega) + getImpedance(\"capacitor\", C, omega))\n",
    "            return[numer, denom]\n",
    "    \n",
    "    if (omega == None):\n",
    "        return helper\n",
    "    else:\n",
    "        return helper(omega)\n",
    "\n"
   ]
  },
  {
   "cell_type": "markdown",
   "metadata": {},
   "source": [
    "**~Calculate transfer function~**\n",
    "\n",
    "Great! We have made good progress. Now we want to formulate the Impedance divider as a transfer function with a top and bottom. This is a structural step but it will make everything later much easier!\n",
    "\n",
    "Later on, we will curry getTransferFunc with omega to plot the transfer function.\n",
    "\n",
    "** I have filled this out because I think the logic here is confusing. **"
   ]
  },
  {
   "cell_type": "code",
   "execution_count": null,
   "metadata": {},
   "outputs": [],
   "source": [
    "def getTransferFunc(R, C, RC_circuit):\n",
    "    if RC_circuit:\n",
    "        return divideImpedance(R, C) # returns a function\n",
    "    else: \n",
    "        return divideImpedance(C, R) # returns a function\n",
    "    "
   ]
  },
  {
   "cell_type": "markdown",
   "metadata": {},
   "source": [
    "**~Calculate magnitude of transfer function~**\n",
    "\n",
    "Now, we will use the distance formula equation to calculate the magnitude of a transfer function at any given omega.\n",
    "\n",
    "The getMag function takes in a (possibly complex) numerator and denominator, as well as an omega and returns a real magnitude."
   ]
  },
  {
   "cell_type": "code",
   "execution_count": null,
   "metadata": {},
   "outputs": [],
   "source": [
    "def getMag(transferEq, omega):\n",
    "    \n",
    "    num = transferEq(omega)[0](omega)\n",
    "    den = transferEq(omega)[1]()\n",
    "    \n",
    "    #print(den)\n",
    "    return np.linalg.norm(num)/np.linalg.norm(den); # change this line"
   ]
  },
  {
   "cell_type": "markdown",
   "metadata": {},
   "source": [
    "**Create plotting function**"
   ]
  },
  {
   "cell_type": "code",
   "execution_count": null,
   "metadata": {},
   "outputs": [],
   "source": [
    "def plotter(type=\"mag\"):\n",
    "    '''\n",
    "    1. Figure out omegas we want to plot\n",
    "    2. Create transfer function\n",
    "    3. Find transfer function magnitude OR phase for several values around cutoff frequency\n",
    "    4. Plot!\n",
    "    '''\n",
    "    \n",
    "    # 1. \n",
    "    xVals = [getOmegap(R, C)/(10**(i/10)) for i in range(-50, 50)]\n",
    "\n",
    "    # 2. \n",
    "    Rimp = getImpedance(\"resistor\", R) # returns a function of omega\n",
    "    Cimp = getImpedance(\"capacitor\", C) # returns a function of omega\n",
    "    \n",
    "    f = getTransferFunc(R, C, RC_circuit) # returns a function of omega\n",
    "    \n",
    "    \n",
    "    if(type == \"mag\"): # if we are plotting mag\n",
    "        yVals = [getMag(f, i) for i in xVals] # to fill in later\n",
    "        plt.loglog(xVals, yVals)\n",
    "        plt.loglog(xVals[len(yVals)//2], yVals[len(yVals)//2], 'ro')\n",
    "        plt.loglog([xVals[len(yVals)//2] for i in range(len(yVals))], yVals, 'g')\n",
    "    \n",
    "    else: # if we are plotting phase\n",
    "        yVals = [getPhase(f, i) for i in xVals] # to fill in later\n",
    "        plt.plot(xVals, yVals)\n",
    "        plt.plot(xVals[len(yVals)//2], yVals[len(yVals)//2], 'ro')\n",
    "        plt.plot([xVals[len(yVals)//2] for i in range(len(yVals))], yVals, 'g')\n",
    "        plt.xscale(\"log\")"
   ]
  },
  {
   "cell_type": "markdown",
   "metadata": {},
   "source": [
    "~Calculate phase of transfer function~\n",
    "\n",
    "Finally, we will use numpy's arctan2 to calculate the magnitude of a transfer function at any given omega.\n",
    "\n",
    "The getPhase function takes in a (possibly complex) numerator and denominator, as well as an omega and returns a phase."
   ]
  },
  {
   "cell_type": "code",
   "execution_count": null,
   "metadata": {},
   "outputs": [],
   "source": [
    "def getPhase(transferEq, omega):\n",
    "    # hint: use np.angle to calculate the arctangent of a complex number\n",
    "    num = transferEq(omega)[0](omega)\n",
    "    den = transferEq(omega)[1]()\n",
    "    \n",
    "    return np.angle(num, deg = True) - np.angle(den, deg = True)\n",
    "    "
   ]
  },
  {
   "cell_type": "markdown",
   "metadata": {},
   "source": [
    "**~Choose R and C values and circuit layout~**"
   ]
  },
  {
   "cell_type": "code",
   "execution_count": null,
   "metadata": {},
   "outputs": [],
   "source": [
    "R = 1e3\n",
    "C = 3.9e-6\n",
    "RC_circuit = False"
   ]
  },
  {
   "cell_type": "markdown",
   "metadata": {},
   "source": [
    "**~Plot magnitude and phase of transfer function~**"
   ]
  },
  {
   "cell_type": "code",
   "execution_count": null,
   "metadata": {
    "scrolled": true
   },
   "outputs": [],
   "source": [
    "plotter(\"mag\")"
   ]
  },
  {
   "cell_type": "code",
   "execution_count": null,
   "metadata": {},
   "outputs": [],
   "source": [
    "plotter(\"phase\")"
   ]
  },
  {
   "cell_type": "code",
   "execution_count": null,
   "metadata": {},
   "outputs": [],
   "source": []
  },
  {
   "cell_type": "code",
   "execution_count": null,
   "metadata": {},
   "outputs": [],
   "source": []
  },
  {
   "cell_type": "code",
   "execution_count": null,
   "metadata": {},
   "outputs": [],
   "source": []
  },
  {
   "cell_type": "code",
   "execution_count": null,
   "metadata": {},
   "outputs": [],
   "source": []
  },
  {
   "cell_type": "code",
   "execution_count": null,
   "metadata": {},
   "outputs": [],
   "source": []
  },
  {
   "cell_type": "code",
   "execution_count": null,
   "metadata": {},
   "outputs": [],
   "source": []
  },
  {
   "cell_type": "code",
   "execution_count": null,
   "metadata": {},
   "outputs": [],
   "source": []
  },
  {
   "cell_type": "code",
   "execution_count": null,
   "metadata": {},
   "outputs": [],
   "source": []
  },
  {
   "cell_type": "code",
   "execution_count": null,
   "metadata": {},
   "outputs": [],
   "source": []
  },
  {
   "cell_type": "code",
   "execution_count": null,
   "metadata": {},
   "outputs": [],
   "source": []
  },
  {
   "cell_type": "code",
   "execution_count": null,
   "metadata": {},
   "outputs": [],
   "source": []
  },
  {
   "cell_type": "code",
   "execution_count": null,
   "metadata": {},
   "outputs": [],
   "source": []
  },
  {
   "cell_type": "code",
   "execution_count": null,
   "metadata": {},
   "outputs": [],
   "source": []
  },
  {
   "cell_type": "code",
   "execution_count": null,
   "metadata": {},
   "outputs": [],
   "source": []
  },
  {
   "cell_type": "code",
   "execution_count": null,
   "metadata": {},
   "outputs": [],
   "source": []
  },
  {
   "cell_type": "code",
   "execution_count": null,
   "metadata": {},
   "outputs": [],
   "source": []
  },
  {
   "cell_type": "code",
   "execution_count": null,
   "metadata": {},
   "outputs": [],
   "source": []
  },
  {
   "cell_type": "code",
   "execution_count": null,
   "metadata": {},
   "outputs": [],
   "source": []
  },
  {
   "cell_type": "code",
   "execution_count": null,
   "metadata": {},
   "outputs": [],
   "source": []
  }
 ],
 "metadata": {
  "kernelspec": {
   "display_name": "Python 3",
   "language": "python",
   "name": "python3"
  },
  "language_info": {
   "codemirror_mode": {
    "name": "ipython",
    "version": 3
   },
   "file_extension": ".py",
   "mimetype": "text/x-python",
   "name": "python",
   "nbconvert_exporter": "python",
   "pygments_lexer": "ipython3",
   "version": "3.6.4"
  }
 },
 "nbformat": 4,
 "nbformat_minor": 2
}
